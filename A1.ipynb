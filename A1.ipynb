{
 "cells": [
  {
   "cell_type": "code",
   "execution_count": 1857,
   "metadata": {},
   "outputs": [
    {
     "data": {
      "text/html": [
       "<div>\n",
       "<style scoped>\n",
       "    .dataframe tbody tr th:only-of-type {\n",
       "        vertical-align: middle;\n",
       "    }\n",
       "\n",
       "    .dataframe tbody tr th {\n",
       "        vertical-align: top;\n",
       "    }\n",
       "\n",
       "    .dataframe thead th {\n",
       "        text-align: right;\n",
       "    }\n",
       "</style>\n",
       "<table border=\"1\" class=\"dataframe\">\n",
       "  <thead>\n",
       "    <tr style=\"text-align: right;\">\n",
       "      <th></th>\n",
       "      <th>InvoiceNo</th>\n",
       "      <th>StockCode</th>\n",
       "      <th>Description</th>\n",
       "      <th>Quantity</th>\n",
       "      <th>InvoiceDate</th>\n",
       "      <th>UnitPrice</th>\n",
       "      <th>CustomerID</th>\n",
       "      <th>Country</th>\n",
       "    </tr>\n",
       "  </thead>\n",
       "  <tbody>\n",
       "    <tr>\n",
       "      <th>0</th>\n",
       "      <td>536527</td>\n",
       "      <td>22809</td>\n",
       "      <td>SET OF 6 T-LIGHTS SANTA</td>\n",
       "      <td>6</td>\n",
       "      <td>12/1/2010 13:04</td>\n",
       "      <td>2.95</td>\n",
       "      <td>12662</td>\n",
       "      <td>Germany</td>\n",
       "    </tr>\n",
       "    <tr>\n",
       "      <th>1</th>\n",
       "      <td>536527</td>\n",
       "      <td>84347</td>\n",
       "      <td>ROTATING SILVER ANGELS T-LIGHT HLDR</td>\n",
       "      <td>6</td>\n",
       "      <td>12/1/2010 13:04</td>\n",
       "      <td>2.55</td>\n",
       "      <td>12662</td>\n",
       "      <td>Germany</td>\n",
       "    </tr>\n",
       "    <tr>\n",
       "      <th>2</th>\n",
       "      <td>536527</td>\n",
       "      <td>84945</td>\n",
       "      <td>MULTI COLOUR SILVER T-LIGHT HOLDER</td>\n",
       "      <td>12</td>\n",
       "      <td>12/1/2010 13:04</td>\n",
       "      <td>0.85</td>\n",
       "      <td>12662</td>\n",
       "      <td>Germany</td>\n",
       "    </tr>\n",
       "    <tr>\n",
       "      <th>3</th>\n",
       "      <td>536527</td>\n",
       "      <td>22242</td>\n",
       "      <td>5 HOOK HANGER MAGIC TOADSTOOL</td>\n",
       "      <td>12</td>\n",
       "      <td>12/1/2010 13:04</td>\n",
       "      <td>1.65</td>\n",
       "      <td>12662</td>\n",
       "      <td>Germany</td>\n",
       "    </tr>\n",
       "    <tr>\n",
       "      <th>4</th>\n",
       "      <td>536527</td>\n",
       "      <td>22244</td>\n",
       "      <td>3 HOOK HANGER MAGIC GARDEN</td>\n",
       "      <td>12</td>\n",
       "      <td>12/1/2010 13:04</td>\n",
       "      <td>1.95</td>\n",
       "      <td>12662</td>\n",
       "      <td>Germany</td>\n",
       "    </tr>\n",
       "  </tbody>\n",
       "</table>\n",
       "</div>"
      ],
      "text/plain": [
       "  InvoiceNo StockCode                          Description  Quantity  \\\n",
       "0    536527     22809              SET OF 6 T-LIGHTS SANTA         6   \n",
       "1    536527     84347  ROTATING SILVER ANGELS T-LIGHT HLDR         6   \n",
       "2    536527     84945   MULTI COLOUR SILVER T-LIGHT HOLDER        12   \n",
       "3    536527     22242        5 HOOK HANGER MAGIC TOADSTOOL        12   \n",
       "4    536527     22244           3 HOOK HANGER MAGIC GARDEN        12   \n",
       "\n",
       "       InvoiceDate  UnitPrice  CustomerID  Country  \n",
       "0  12/1/2010 13:04       2.95       12662  Germany  \n",
       "1  12/1/2010 13:04       2.55       12662  Germany  \n",
       "2  12/1/2010 13:04       0.85       12662  Germany  \n",
       "3  12/1/2010 13:04       1.65       12662  Germany  \n",
       "4  12/1/2010 13:04       1.95       12662  Germany  "
      ]
     },
     "execution_count": 1857,
     "metadata": {},
     "output_type": "execute_result"
    }
   ],
   "source": [
    "#pip install -r requirements.txt\n",
    "#Import pandas\n",
    "import pandas as pd\n",
    "\n",
    "#Import dataset\n",
    "df = pd.read_csv(\"germany.csv\")\n",
    "df.head()"
   ]
  },
  {
   "cell_type": "code",
   "execution_count": 1858,
   "metadata": {},
   "outputs": [
    {
     "name": "stdout",
     "output_type": "stream",
     "text": [
      "<class 'pandas.core.frame.DataFrame'>\n",
      "RangeIndex: 9495 entries, 0 to 9494\n",
      "Data columns (total 7 columns):\n",
      " #   Column       Non-Null Count  Dtype  \n",
      "---  ------       --------------  -----  \n",
      " 0   InvoiceNo    9495 non-null   int32  \n",
      " 1   StockCode    9495 non-null   object \n",
      " 2   Description  9495 non-null   object \n",
      " 3   Quantity     9495 non-null   int64  \n",
      " 4   InvoiceDate  9495 non-null   object \n",
      " 5   UnitPrice    9495 non-null   float64\n",
      " 6   CustomerID   9495 non-null   int64  \n",
      "dtypes: float64(1), int32(1), int64(2), object(3)\n",
      "memory usage: 482.3+ KB\n"
     ]
    }
   ],
   "source": [
    "#Drop Country column\n",
    "df.drop(columns=[\"Country\"], inplace=True)\n",
    "#Remove C from any row in InvoiceNo column\n",
    "df[\"InvoiceNo\"] = df[\"InvoiceNo\"].str.replace(\"C\", \"\", regex=True)\n",
    "#Convert InvoiceNo from Dtype object to int32\n",
    "df['InvoiceNo'] = df['InvoiceNo'].astype(int)\n",
    "\n",
    "df.info()"
   ]
  },
  {
   "cell_type": "code",
   "execution_count": 1859,
   "metadata": {},
   "outputs": [
    {
     "data": {
      "text/html": [
       "<div>\n",
       "<style scoped>\n",
       "    .dataframe tbody tr th:only-of-type {\n",
       "        vertical-align: middle;\n",
       "    }\n",
       "\n",
       "    .dataframe tbody tr th {\n",
       "        vertical-align: top;\n",
       "    }\n",
       "\n",
       "    .dataframe thead th {\n",
       "        text-align: right;\n",
       "    }\n",
       "</style>\n",
       "<table border=\"1\" class=\"dataframe\">\n",
       "  <thead>\n",
       "    <tr style=\"text-align: right;\">\n",
       "      <th></th>\n",
       "      <th>InvoiceNo</th>\n",
       "      <th>StockCode</th>\n",
       "      <th>Description</th>\n",
       "      <th>Quantity</th>\n",
       "      <th>InvoiceDate</th>\n",
       "      <th>UnitPrice</th>\n",
       "      <th>CustomerID</th>\n",
       "    </tr>\n",
       "  </thead>\n",
       "  <tbody>\n",
       "    <tr>\n",
       "      <th>0</th>\n",
       "      <td>536527</td>\n",
       "      <td>22809</td>\n",
       "      <td>SET OF 6 T-LIGHTS SANTA</td>\n",
       "      <td>6</td>\n",
       "      <td>12/1/2010 13:04</td>\n",
       "      <td>2.95</td>\n",
       "      <td>12662</td>\n",
       "    </tr>\n",
       "    <tr>\n",
       "      <th>1</th>\n",
       "      <td>536527</td>\n",
       "      <td>84347</td>\n",
       "      <td>ROTATING SILVER ANGELS T-LIGHT HLDR</td>\n",
       "      <td>6</td>\n",
       "      <td>12/1/2010 13:04</td>\n",
       "      <td>2.55</td>\n",
       "      <td>12662</td>\n",
       "    </tr>\n",
       "    <tr>\n",
       "      <th>2</th>\n",
       "      <td>536527</td>\n",
       "      <td>84945</td>\n",
       "      <td>MULTI COLOUR SILVER T-LIGHT HOLDER</td>\n",
       "      <td>12</td>\n",
       "      <td>12/1/2010 13:04</td>\n",
       "      <td>0.85</td>\n",
       "      <td>12662</td>\n",
       "    </tr>\n",
       "    <tr>\n",
       "      <th>3</th>\n",
       "      <td>536527</td>\n",
       "      <td>22242</td>\n",
       "      <td>5 HOOK HANGER MAGIC TOADSTOOL</td>\n",
       "      <td>12</td>\n",
       "      <td>12/1/2010 13:04</td>\n",
       "      <td>1.65</td>\n",
       "      <td>12662</td>\n",
       "    </tr>\n",
       "    <tr>\n",
       "      <th>4</th>\n",
       "      <td>536527</td>\n",
       "      <td>22244</td>\n",
       "      <td>3 HOOK HANGER MAGIC GARDEN</td>\n",
       "      <td>12</td>\n",
       "      <td>12/1/2010 13:04</td>\n",
       "      <td>1.95</td>\n",
       "      <td>12662</td>\n",
       "    </tr>\n",
       "    <tr>\n",
       "      <th>5</th>\n",
       "      <td>536527</td>\n",
       "      <td>22243</td>\n",
       "      <td>5 HOOK HANGER RED MAGIC TOADSTOOL</td>\n",
       "      <td>12</td>\n",
       "      <td>12/1/2010 13:04</td>\n",
       "      <td>1.65</td>\n",
       "      <td>12662</td>\n",
       "    </tr>\n",
       "    <tr>\n",
       "      <th>6</th>\n",
       "      <td>536527</td>\n",
       "      <td>47421</td>\n",
       "      <td>ASSORTED COLOUR LIZARD SUCTION HOOK</td>\n",
       "      <td>24</td>\n",
       "      <td>12/1/2010 13:04</td>\n",
       "      <td>0.42</td>\n",
       "      <td>12662</td>\n",
       "    </tr>\n",
       "    <tr>\n",
       "      <th>7</th>\n",
       "      <td>536527</td>\n",
       "      <td>20712</td>\n",
       "      <td>JUMBO BAG WOODLAND ANIMALS</td>\n",
       "      <td>10</td>\n",
       "      <td>12/1/2010 13:04</td>\n",
       "      <td>1.95</td>\n",
       "      <td>12662</td>\n",
       "    </tr>\n",
       "    <tr>\n",
       "      <th>8</th>\n",
       "      <td>536527</td>\n",
       "      <td>20713</td>\n",
       "      <td>JUMBO BAG OWLS</td>\n",
       "      <td>10</td>\n",
       "      <td>12/1/2010 13:04</td>\n",
       "      <td>1.95</td>\n",
       "      <td>12662</td>\n",
       "    </tr>\n",
       "    <tr>\n",
       "      <th>9</th>\n",
       "      <td>536527</td>\n",
       "      <td>22837</td>\n",
       "      <td>HOT WATER BOTTLE BABUSHKA</td>\n",
       "      <td>4</td>\n",
       "      <td>12/1/2010 13:04</td>\n",
       "      <td>4.65</td>\n",
       "      <td>12662</td>\n",
       "    </tr>\n",
       "    <tr>\n",
       "      <th>10</th>\n",
       "      <td>536527</td>\n",
       "      <td>22969</td>\n",
       "      <td>HOMEMADE JAM SCENTED CANDLES</td>\n",
       "      <td>12</td>\n",
       "      <td>12/1/2010 13:04</td>\n",
       "      <td>1.45</td>\n",
       "      <td>12662</td>\n",
       "    </tr>\n",
       "    <tr>\n",
       "      <th>11</th>\n",
       "      <td>536527</td>\n",
       "      <td>22973</td>\n",
       "      <td>CHILDREN'S CIRCUS PARADE MUG</td>\n",
       "      <td>12</td>\n",
       "      <td>12/1/2010 13:04</td>\n",
       "      <td>1.65</td>\n",
       "      <td>12662</td>\n",
       "    </tr>\n",
       "    <tr>\n",
       "      <th>12</th>\n",
       "      <td>536527</td>\n",
       "      <td>84569B</td>\n",
       "      <td>PACK 3 FIRE ENGINE/CAR PATCHES</td>\n",
       "      <td>12</td>\n",
       "      <td>12/1/2010 13:04</td>\n",
       "      <td>1.25</td>\n",
       "      <td>12662</td>\n",
       "    </tr>\n",
       "    <tr>\n",
       "      <th>13</th>\n",
       "      <td>536527</td>\n",
       "      <td>22549</td>\n",
       "      <td>PICTURE DOMINOES</td>\n",
       "      <td>12</td>\n",
       "      <td>12/1/2010 13:04</td>\n",
       "      <td>1.45</td>\n",
       "      <td>12662</td>\n",
       "    </tr>\n",
       "    <tr>\n",
       "      <th>14</th>\n",
       "      <td>536527</td>\n",
       "      <td>POST</td>\n",
       "      <td>POSTAGE</td>\n",
       "      <td>1</td>\n",
       "      <td>12/1/2010 13:04</td>\n",
       "      <td>18.00</td>\n",
       "      <td>12662</td>\n",
       "    </tr>\n",
       "  </tbody>\n",
       "</table>\n",
       "</div>"
      ],
      "text/plain": [
       "    InvoiceNo StockCode                          Description  Quantity  \\\n",
       "0      536527     22809              SET OF 6 T-LIGHTS SANTA         6   \n",
       "1      536527     84347  ROTATING SILVER ANGELS T-LIGHT HLDR         6   \n",
       "2      536527     84945   MULTI COLOUR SILVER T-LIGHT HOLDER        12   \n",
       "3      536527     22242        5 HOOK HANGER MAGIC TOADSTOOL        12   \n",
       "4      536527     22244           3 HOOK HANGER MAGIC GARDEN        12   \n",
       "5      536527     22243    5 HOOK HANGER RED MAGIC TOADSTOOL        12   \n",
       "6      536527     47421  ASSORTED COLOUR LIZARD SUCTION HOOK        24   \n",
       "7      536527     20712           JUMBO BAG WOODLAND ANIMALS        10   \n",
       "8      536527     20713                       JUMBO BAG OWLS        10   \n",
       "9      536527     22837           HOT WATER BOTTLE BABUSHKA          4   \n",
       "10     536527     22969         HOMEMADE JAM SCENTED CANDLES        12   \n",
       "11     536527     22973         CHILDREN'S CIRCUS PARADE MUG        12   \n",
       "12     536527    84569B       PACK 3 FIRE ENGINE/CAR PATCHES        12   \n",
       "13     536527     22549                     PICTURE DOMINOES        12   \n",
       "14     536527      POST                              POSTAGE         1   \n",
       "\n",
       "        InvoiceDate  UnitPrice  CustomerID  \n",
       "0   12/1/2010 13:04       2.95       12662  \n",
       "1   12/1/2010 13:04       2.55       12662  \n",
       "2   12/1/2010 13:04       0.85       12662  \n",
       "3   12/1/2010 13:04       1.65       12662  \n",
       "4   12/1/2010 13:04       1.95       12662  \n",
       "5   12/1/2010 13:04       1.65       12662  \n",
       "6   12/1/2010 13:04       0.42       12662  \n",
       "7   12/1/2010 13:04       1.95       12662  \n",
       "8   12/1/2010 13:04       1.95       12662  \n",
       "9   12/1/2010 13:04       4.65       12662  \n",
       "10  12/1/2010 13:04       1.45       12662  \n",
       "11  12/1/2010 13:04       1.65       12662  \n",
       "12  12/1/2010 13:04       1.25       12662  \n",
       "13  12/1/2010 13:04       1.45       12662  \n",
       "14  12/1/2010 13:04      18.00       12662  "
      ]
     },
     "execution_count": 1859,
     "metadata": {},
     "output_type": "execute_result"
    }
   ],
   "source": [
    "df.loc[df['InvoiceNo'] == 536527]"
   ]
  },
  {
   "cell_type": "code",
   "execution_count": 1860,
   "metadata": {},
   "outputs": [
    {
     "data": {
      "text/plain": [
       "95"
      ]
     },
     "execution_count": 1860,
     "metadata": {},
     "output_type": "execute_result"
    }
   ],
   "source": [
    "#Check for number of unique values, used for testing/ checking\n",
    "df[\"CustomerID\"].nunique()"
   ]
  },
  {
   "cell_type": "code",
   "execution_count": 1861,
   "metadata": {},
   "outputs": [
    {
     "name": "stdout",
     "output_type": "stream",
     "text": [
      "Money: €3817.08\n"
     ]
    }
   ],
   "source": [
    "#Group all instances by CustomerID, multiply each instances Quantity by UnitPrice in each group and sum them all up\n",
    "PurchaseSumPerCustomerID = df.groupby(\"CustomerID\").apply(lambda x: (x[\"Quantity\"] * x[\"UnitPrice\"]).sum())\n",
    "\n",
    "#Check if it worked and what the sum up Customer purchase is\n",
    "CustomerID = 12662\n",
    "print(f\"Money: €{PurchaseSumPerCustomerID.loc[CustomerID]}\")"
   ]
  },
  {
   "cell_type": "code",
   "execution_count": 1862,
   "metadata": {},
   "outputs": [
    {
     "data": {
      "image/png": "[encoded data removed]",
      "text/plain": [
       "<Figure size 1000x600 with 1 Axes>"
      ]
     },
     "metadata": {},
     "output_type": "display_data"
    }
   ],
   "source": [
    "#Import matplotlib\n",
    "import matplotlib.pylab as plt\n",
    "\n",
    "#Average, highest, lowest of all customers and rounded to 2 decimal palces\n",
    "average = PurchaseSumPerCustomerID.mean().round(decimals=2)\n",
    "highest = PurchaseSumPerCustomerID.max()\n",
    "lowest = PurchaseSumPerCustomerID.min()\n",
    "\n",
    "#Increases graph size, MUST BE HERE OR IT DOES NOT WORK\n",
    "plt.figure(figsize=(10,6))\n",
    "\n",
    "# Create a scatter plot\n",
    "plt.scatter(PurchaseSumPerCustomerID.index, PurchaseSumPerCustomerID)\n",
    "\n",
    "#Remove X axis label\n",
    "plt.tick_params(axis=\"x\", bottom=False, labelbottom=False)\n",
    "\n",
    "# Add labels and title\n",
    "plt.xlabel(\"Customer ID\")\n",
    "plt.ylabel(\"Purchase Sum €\")\n",
    "plt.title(\"Total Purchase Sum per CustomerID\")\n",
    "\n",
    "#Add \"Average, Highest, Lowest Purchase Sum:\" to top right of graph, \"transform...\" make it so it's relative to the chart axis\n",
    "plt.text(0.6, 0.9, f\"Average Total Purchase Sum: €{average}\", transform=plt.gca().transAxes)\n",
    "plt.text(0.6, 0.8, f\"Highest Purchase Sum: €{highest}\", transform=plt.gca().transAxes)\n",
    "plt.text(0.6, 0.75, f\"Lowest Purchase Sum: €{lowest}\", transform=plt.gca().transAxes)\n",
    "\n",
    "plt.show()"
   ]
  },
  {
   "cell_type": "code",
   "execution_count": 1863,
   "metadata": {},
   "outputs": [
    {
     "name": "stdout",
     "output_type": "stream",
     "text": [
      "CustomerID\n",
      "12605   -7.5\n",
      "dtype: float64\n"
     ]
    },
    {
     "data": {
      "text/html": [
       "<div>\n",
       "<style scoped>\n",
       "    .dataframe tbody tr th:only-of-type {\n",
       "        vertical-align: middle;\n",
       "    }\n",
       "\n",
       "    .dataframe tbody tr th {\n",
       "        vertical-align: top;\n",
       "    }\n",
       "\n",
       "    .dataframe thead th {\n",
       "        text-align: right;\n",
       "    }\n",
       "</style>\n",
       "<table border=\"1\" class=\"dataframe\">\n",
       "  <thead>\n",
       "    <tr style=\"text-align: right;\">\n",
       "      <th></th>\n",
       "      <th>InvoiceNo</th>\n",
       "      <th>StockCode</th>\n",
       "      <th>Description</th>\n",
       "      <th>Quantity</th>\n",
       "      <th>InvoiceDate</th>\n",
       "      <th>UnitPrice</th>\n",
       "      <th>CustomerID</th>\n",
       "    </tr>\n",
       "  </thead>\n",
       "  <tbody>\n",
       "    <tr>\n",
       "      <th>258</th>\n",
       "      <td>538123</td>\n",
       "      <td>22331</td>\n",
       "      <td>WOODLAND PARTY BAG + STICKER SET</td>\n",
       "      <td>-1</td>\n",
       "      <td>12/9/2010 15:41</td>\n",
       "      <td>1.65</td>\n",
       "      <td>12605</td>\n",
       "    </tr>\n",
       "    <tr>\n",
       "      <th>259</th>\n",
       "      <td>538123</td>\n",
       "      <td>22333</td>\n",
       "      <td>RETROSPOT PARTY BAG + STICKER SET</td>\n",
       "      <td>-1</td>\n",
       "      <td>12/9/2010 15:41</td>\n",
       "      <td>1.65</td>\n",
       "      <td>12605</td>\n",
       "    </tr>\n",
       "    <tr>\n",
       "      <th>260</th>\n",
       "      <td>538123</td>\n",
       "      <td>22956</td>\n",
       "      <td>36 FOIL HEART CAKE CASES</td>\n",
       "      <td>-2</td>\n",
       "      <td>12/9/2010 15:41</td>\n",
       "      <td>2.10</td>\n",
       "      <td>12605</td>\n",
       "    </tr>\n",
       "  </tbody>\n",
       "</table>\n",
       "</div>"
      ],
      "text/plain": [
       "     InvoiceNo StockCode                        Description  Quantity  \\\n",
       "258     538123     22331   WOODLAND PARTY BAG + STICKER SET        -1   \n",
       "259     538123     22333  RETROSPOT PARTY BAG + STICKER SET        -1   \n",
       "260     538123     22956           36 FOIL HEART CAKE CASES        -2   \n",
       "\n",
       "         InvoiceDate  UnitPrice  CustomerID  \n",
       "258  12/9/2010 15:41       1.65       12605  \n",
       "259  12/9/2010 15:41       1.65       12605  \n",
       "260  12/9/2010 15:41       2.10       12605  "
      ]
     },
     "execution_count": 1863,
     "metadata": {},
     "output_type": "execute_result"
    }
   ],
   "source": [
    "#Find all customers with Sum of less than 0\n",
    "print(PurchaseSumPerCustomerID[PurchaseSumPerCustomerID < 0])\n",
    "\n",
    "#Display negative cusomers purchases\n",
    "df.loc[df['CustomerID'] == 12605]"
   ]
  },
  {
   "attachments": {},
   "cell_type": "markdown",
   "metadata": {},
   "source": [
    "## Linear Regression\n",
    "<h5>Sales over time</h5>"
   ]
  },
  {
   "cell_type": "code",
   "execution_count": 1864,
   "metadata": {},
   "outputs": [
    {
     "data": {
      "text/html": [
       "<div>\n",
       "<style scoped>\n",
       "    .dataframe tbody tr th:only-of-type {\n",
       "        vertical-align: middle;\n",
       "    }\n",
       "\n",
       "    .dataframe tbody tr th {\n",
       "        vertical-align: top;\n",
       "    }\n",
       "\n",
       "    .dataframe thead th {\n",
       "        text-align: right;\n",
       "    }\n",
       "</style>\n",
       "<table border=\"1\" class=\"dataframe\">\n",
       "  <thead>\n",
       "    <tr style=\"text-align: right;\">\n",
       "      <th></th>\n",
       "      <th>Quantity</th>\n",
       "      <th>InvoiceDate</th>\n",
       "      <th>UnitPrice</th>\n",
       "      <th>sumPerRow</th>\n",
       "    </tr>\n",
       "  </thead>\n",
       "  <tbody>\n",
       "    <tr>\n",
       "      <th>0</th>\n",
       "      <td>6</td>\n",
       "      <td>2010-12-01</td>\n",
       "      <td>2.95</td>\n",
       "      <td>17.7</td>\n",
       "    </tr>\n",
       "    <tr>\n",
       "      <th>1</th>\n",
       "      <td>6</td>\n",
       "      <td>2010-12-01</td>\n",
       "      <td>2.55</td>\n",
       "      <td>15.3</td>\n",
       "    </tr>\n",
       "    <tr>\n",
       "      <th>2</th>\n",
       "      <td>12</td>\n",
       "      <td>2010-12-01</td>\n",
       "      <td>0.85</td>\n",
       "      <td>10.2</td>\n",
       "    </tr>\n",
       "    <tr>\n",
       "      <th>3</th>\n",
       "      <td>12</td>\n",
       "      <td>2010-12-01</td>\n",
       "      <td>1.65</td>\n",
       "      <td>19.8</td>\n",
       "    </tr>\n",
       "    <tr>\n",
       "      <th>4</th>\n",
       "      <td>12</td>\n",
       "      <td>2010-12-01</td>\n",
       "      <td>1.95</td>\n",
       "      <td>23.4</td>\n",
       "    </tr>\n",
       "  </tbody>\n",
       "</table>\n",
       "</div>"
      ],
      "text/plain": [
       "   Quantity InvoiceDate  UnitPrice  sumPerRow\n",
       "0         6  2010-12-01       2.95       17.7\n",
       "1         6  2010-12-01       2.55       15.3\n",
       "2        12  2010-12-01       0.85       10.2\n",
       "3        12  2010-12-01       1.65       19.8\n",
       "4        12  2010-12-01       1.95       23.4"
      ]
     },
     "execution_count": 1864,
     "metadata": {},
     "output_type": "execute_result"
    }
   ],
   "source": [
    "#Create copy of dataframe\n",
    "regression = df\n",
    "#Drop unecessary features\n",
    "regression = regression.drop(columns=[\"InvoiceNo\", \"StockCode\", \"Description\", \"CustomerID\"])\n",
    "\n",
    "#Create new feature called sumPreRow, place it at the end of existing dataframe\n",
    "regression[\"sumPerRow\"] = regression.apply(lambda x: x[\"Quantity\"] * x[\"UnitPrice\"], axis=1)\n",
    "#Remove time from InvoiceDate feature\n",
    "regression[\"InvoiceDate\"] = regression[\"InvoiceDate\"].str.split(\" \").str[0]\n",
    "#Convert from string to datetime Dtype\n",
    "regression[\"InvoiceDate\"] = pd.to_datetime(regression[\"InvoiceDate\"])\n",
    "\n",
    "regression.head()"
   ]
  },
  {
   "cell_type": "code",
   "execution_count": 1865,
   "metadata": {},
   "outputs": [
    {
     "data": {
      "text/html": [
       "<div>\n",
       "<style scoped>\n",
       "    .dataframe tbody tr th:only-of-type {\n",
       "        vertical-align: middle;\n",
       "    }\n",
       "\n",
       "    .dataframe tbody tr th {\n",
       "        vertical-align: top;\n",
       "    }\n",
       "\n",
       "    .dataframe thead th {\n",
       "        text-align: right;\n",
       "    }\n",
       "</style>\n",
       "<table border=\"1\" class=\"dataframe\">\n",
       "  <thead>\n",
       "    <tr style=\"text-align: right;\">\n",
       "      <th></th>\n",
       "      <th>Quantity</th>\n",
       "      <th>UnitPrice</th>\n",
       "      <th>sumPerRow</th>\n",
       "    </tr>\n",
       "    <tr>\n",
       "      <th>InvoiceDate</th>\n",
       "      <th></th>\n",
       "      <th></th>\n",
       "      <th></th>\n",
       "    </tr>\n",
       "  </thead>\n",
       "  <tbody>\n",
       "    <tr>\n",
       "      <th>2010-12-01</th>\n",
       "      <td>117</td>\n",
       "      <td>93.82</td>\n",
       "      <td>139.18</td>\n",
       "    </tr>\n",
       "    <tr>\n",
       "      <th>2010-12-02</th>\n",
       "      <td>146</td>\n",
       "      <td>51.95</td>\n",
       "      <td>138.35</td>\n",
       "    </tr>\n",
       "    <tr>\n",
       "      <th>2010-12-03</th>\n",
       "      <td>170</td>\n",
       "      <td>115.84</td>\n",
       "      <td>555.53</td>\n",
       "    </tr>\n",
       "    <tr>\n",
       "      <th>2010-12-05</th>\n",
       "      <td>1362</td>\n",
       "      <td>373.58</td>\n",
       "      <td>2476.69</td>\n",
       "    </tr>\n",
       "    <tr>\n",
       "      <th>2010-12-06</th>\n",
       "      <td>85</td>\n",
       "      <td>56.83</td>\n",
       "      <td>162.44</td>\n",
       "    </tr>\n",
       "  </tbody>\n",
       "</table>\n",
       "</div>"
      ],
      "text/plain": [
       "             Quantity  UnitPrice  sumPerRow\n",
       "InvoiceDate                                \n",
       "2010-12-01        117      93.82     139.18\n",
       "2010-12-02        146      51.95     138.35\n",
       "2010-12-03        170     115.84     555.53\n",
       "2010-12-05       1362     373.58    2476.69\n",
       "2010-12-06         85      56.83     162.44"
      ]
     },
     "execution_count": 1865,
     "metadata": {},
     "output_type": "execute_result"
    }
   ],
   "source": [
    "#Group all instances by unique dates and sum up all number in remaining features\n",
    "grouped = regression.groupby(['InvoiceDate']).sum()\n",
    "grouped.head()"
   ]
  },
  {
   "cell_type": "code",
   "execution_count": 1866,
   "metadata": {},
   "outputs": [
    {
     "data": {
      "text/html": [
       "<div>\n",
       "<style scoped>\n",
       "    .dataframe tbody tr th:only-of-type {\n",
       "        vertical-align: middle;\n",
       "    }\n",
       "\n",
       "    .dataframe tbody tr th {\n",
       "        vertical-align: top;\n",
       "    }\n",
       "\n",
       "    .dataframe thead th {\n",
       "        text-align: right;\n",
       "    }\n",
       "</style>\n",
       "<table border=\"1\" class=\"dataframe\">\n",
       "  <thead>\n",
       "    <tr style=\"text-align: right;\">\n",
       "      <th></th>\n",
       "      <th>Quantity</th>\n",
       "      <th>UnitPrice</th>\n",
       "      <th>sumPerRow</th>\n",
       "    </tr>\n",
       "  </thead>\n",
       "  <tbody>\n",
       "    <tr>\n",
       "      <th>count</th>\n",
       "      <td>232.00</td>\n",
       "      <td>232.00</td>\n",
       "      <td>232.00</td>\n",
       "    </tr>\n",
       "    <tr>\n",
       "      <th>mean</th>\n",
       "      <td>506.24</td>\n",
       "      <td>162.35</td>\n",
       "      <td>955.60</td>\n",
       "    </tr>\n",
       "    <tr>\n",
       "      <th>std</th>\n",
       "      <td>642.18</td>\n",
       "      <td>216.05</td>\n",
       "      <td>1238.37</td>\n",
       "    </tr>\n",
       "    <tr>\n",
       "      <th>min</th>\n",
       "      <td>-97.00</td>\n",
       "      <td>0.39</td>\n",
       "      <td>-237.26</td>\n",
       "    </tr>\n",
       "    <tr>\n",
       "      <th>25%</th>\n",
       "      <td>93.75</td>\n",
       "      <td>50.93</td>\n",
       "      <td>236.00</td>\n",
       "    </tr>\n",
       "    <tr>\n",
       "      <th>50%</th>\n",
       "      <td>335.00</td>\n",
       "      <td>102.08</td>\n",
       "      <td>625.94</td>\n",
       "    </tr>\n",
       "    <tr>\n",
       "      <th>75%</th>\n",
       "      <td>667.75</td>\n",
       "      <td>191.38</td>\n",
       "      <td>1215.21</td>\n",
       "    </tr>\n",
       "    <tr>\n",
       "      <th>max</th>\n",
       "      <td>5825.00</td>\n",
       "      <td>2134.80</td>\n",
       "      <td>12165.25</td>\n",
       "    </tr>\n",
       "  </tbody>\n",
       "</table>\n",
       "</div>"
      ],
      "text/plain": [
       "       Quantity  UnitPrice  sumPerRow\n",
       "count    232.00     232.00     232.00\n",
       "mean     506.24     162.35     955.60\n",
       "std      642.18     216.05    1238.37\n",
       "min      -97.00       0.39    -237.26\n",
       "25%       93.75      50.93     236.00\n",
       "50%      335.00     102.08     625.94\n",
       "75%      667.75     191.38    1215.21\n",
       "max     5825.00    2134.80   12165.25"
      ]
     },
     "execution_count": 1866,
     "metadata": {},
     "output_type": "execute_result"
    }
   ],
   "source": [
    "#Check \n",
    "grouped.describe().round(decimals=2)"
   ]
  },
  {
   "cell_type": "code",
   "execution_count": 1867,
   "metadata": {},
   "outputs": [],
   "source": [
    "#Check\n",
    "grouped.loc[grouped['sumPerRow'] == 12165.25]\n",
    "#Drop one very anomalous data point\n",
    "grouped = grouped[grouped.index != \"2011-05-12\"]"
   ]
  },
  {
   "cell_type": "code",
   "execution_count": 1868,
   "metadata": {},
   "outputs": [
    {
     "name": "stdout",
     "output_type": "stream",
     "text": [
      "Slope: 1.1073199654934696\n",
      "Intercept: -812205.5890029164\n",
      "R value: 0.12255785233228414\n",
      "P value: 0.06293792754374082\n",
      "Standard Error: 0.5925538980010843\n"
     ]
    }
   ],
   "source": [
    "#Import package\n",
    "from scipy import stats\n",
    "import datetime\n",
    "\n",
    "#Convert the dates to ordinal date\n",
    "ordinalDates = grouped.index.to_series().apply(datetime.datetime.toordinal)\n",
    "\n",
    "#Calculate slope, intercept, R, P and standard Error\n",
    "slope, intercept, r, p, se = stats.linregress(ordinalDates, grouped[\"sumPerRow\"])\n",
    "\n",
    "#Estimation change variable slope, in this case it is positive\n",
    "print(\"Slope:\", slope)\n",
    "print(\"Intercept:\", intercept)\n",
    "#R value indicates how accurate it is\n",
    "print(\"R value:\", r)\n",
    "#Represents statistic significant\n",
    "print(\"P value:\", p)\n",
    "#Lower better, it goes above 1\n",
    "print(\"Standard Error:\", se)"
   ]
  },
  {
   "cell_type": "code",
   "execution_count": 1869,
   "metadata": {},
   "outputs": [
    {
     "data": {
      "image/png": "[encoded data removed]",
      "text/plain": [
       "<Figure size 1500x800 with 1 Axes>"
      ]
     },
     "metadata": {},
     "output_type": "display_data"
    }
   ],
   "source": [
    "#Import matplotlib and numpy\n",
    "import matplotlib.pyplot as plt\n",
    "import numpy as np\n",
    "\n",
    "#best fit function calculation\n",
    "def bestFit(x):\n",
    "    return slope * x + intercept\n",
    "\n",
    "#Convert the ordinal dates back to human-readable dates\n",
    "humanDates = [datetime.date.fromordinal(d) for d in ordinalDates]\n",
    "\n",
    "plt.figure(figsize=(15, 8))\n",
    "\n",
    "#Create a scatter plot of the data\n",
    "plt.scatter(humanDates, grouped[\"sumPerRow\"])\n",
    "\n",
    "#Label the axes\n",
    "plt.ylabel(\"Sales €\")\n",
    "plt.xlabel(\"Date\")\n",
    "\n",
    "#Calculate the best fit line\n",
    "model = list(map(bestFit, ordinalDates))\n",
    "\n",
    "#Plot the best fit line\n",
    "plt.plot(humanDates, model, color=\"red\")\n",
    "\n",
    "# Display the chart\n",
    "plt.show()"
   ]
  },
  {
   "cell_type": "code",
   "execution_count": 1870,
   "metadata": {},
   "outputs": [
    {
     "name": "stdout",
     "output_type": "stream",
     "text": [
      "<class 'pandas.core.series.Series'>\n",
      "DatetimeIndex: 231 entries, 2010-12-01 to 2011-12-09\n",
      "Series name: InvoiceDate\n",
      "Non-Null Count  Dtype\n",
      "--------------  -----\n",
      "231 non-null    int64\n",
      "dtypes: int64(1)\n",
      "memory usage: 3.6 KB\n"
     ]
    }
   ],
   "source": [
    "ordinalDates.info()\n",
    "grouped[\"ordinalDates\"] = ordinalDates"
   ]
  },
  {
   "cell_type": "code",
   "execution_count": 1871,
   "metadata": {},
   "outputs": [
    {
     "name": "stdout",
     "output_type": "stream",
     "text": [
      "R-squared value: 0.015020427168308426\n",
      "              Actual  Predicted\n",
      "InvoiceDate                    \n",
      "2010-12-01    139.18     685.75\n",
      "2010-12-02    138.35     686.86\n",
      "2010-12-03    555.53     687.96\n",
      "2010-12-05   2476.69     690.18\n",
      "2010-12-06    162.44     691.29\n",
      "...              ...        ...\n",
      "2011-12-05    269.35    1094.35\n",
      "2011-12-06    -36.65    1095.46\n",
      "2011-12-07   2879.26    1096.56\n",
      "2011-12-08   1089.45    1097.67\n",
      "2011-12-09   1689.72    1098.78\n",
      "\n",
      "[231 rows x 2 columns]\n"
     ]
    }
   ],
   "source": [
    "from sklearn.linear_model import LinearRegression\n",
    "\n",
    "X = grouped[[\"ordinalDates\"]]\n",
    "y = grouped[\"sumPerRow\"]\n",
    "\n",
    "model = LinearRegression()\n",
    "#Create line of best fit\n",
    "model.fit(X, y)\n",
    "#Return the coefficient of determination of the prediction (tells you how accurate the line of best fit is).\n",
    "r = model.score(X, y)\n",
    "print(\"R-squared value:\", r)\n",
    "\n",
    "#Makes predictions of values\n",
    "prediction = model.predict(X)\n",
    "\n",
    "#Shows the predicted and actual values\n",
    "results = pd.DataFrame({\"Actual\": y, \"Predicted\": prediction.round(decimals=2)})\n",
    "print(results)"
   ]
  },
  {
   "cell_type": "code",
   "execution_count": 1872,
   "metadata": {},
   "outputs": [],
   "source": [
    "from sklearn.neighbors import LocalOutlierFactor\n",
    "lof = LocalOutlierFactor()\n",
    "yhat = lof.fit_predict(X)\n",
    "\n",
    "# select all rows that are not outliers\n",
    "mask = yhat != -1\n",
    "\n",
    "y = y[mask]\n",
    "X = X[mask]"
   ]
  },
  {
   "attachments": {},
   "cell_type": "markdown",
   "metadata": {},
   "source": [
    "## Logistic Regression"
   ]
  },
  {
   "cell_type": "code",
   "execution_count": 1873,
   "metadata": {},
   "outputs": [
    {
     "name": "stdout",
     "output_type": "stream",
     "text": [
      "<class 'pandas.core.frame.DataFrame'>\n",
      "RangeIndex: 9495 entries, 0 to 9494\n",
      "Data columns (total 7 columns):\n",
      " #   Column       Non-Null Count  Dtype  \n",
      "---  ------       --------------  -----  \n",
      " 0   InvoiceNo    9495 non-null   int32  \n",
      " 1   StockCode    9495 non-null   object \n",
      " 2   Description  9495 non-null   object \n",
      " 3   Quantity     9495 non-null   int64  \n",
      " 4   InvoiceDate  9495 non-null   object \n",
      " 5   UnitPrice    9495 non-null   float64\n",
      " 6   CustomerID   9495 non-null   int64  \n",
      "dtypes: float64(1), int32(1), int64(2), object(3)\n",
      "memory usage: 482.3+ KB\n"
     ]
    }
   ],
   "source": [
    "import pandas as pd\n",
    "from sklearn.linear_model import LogisticRegression\n",
    "from sklearn.model_selection import train_test_split\n",
    "from sklearn.preprocessing import LabelEncoder\n",
    "from sklearn.metrics import roc_auc_score\n",
    "\n",
    "lRegression = df\n",
    "lRegression.info()"
   ]
  },
  {
   "cell_type": "code",
   "execution_count": 1875,
   "metadata": {},
   "outputs": [],
   "source": [
    "#Any item with a quantity of 10 or more is considered popular (It is a terrible way to determine popularity and can be refined)\n",
    "lRegression[\"Popular\"] = lRegression[\"Quantity\"] > 10\n",
    "\n",
    "#Encode the categorical variables (conver object or string to unique integer (red: 1, blue: 2, etc.)))\n",
    "encouder = LabelEncoder()\n",
    "lRegression[\"StockCode\"] = encouder.fit_transform(lRegression[\"StockCode\"])\n",
    "\n",
    "# Define the predictors\n",
    "X = lRegression[[\"StockCode\", \"UnitPrice\", \"CustomerID\"]]\n",
    "y = lRegression[\"Popular\"]"
   ]
  },
  {
   "cell_type": "code",
   "execution_count": 1876,
   "metadata": {},
   "outputs": [
    {
     "data": {
      "text/html": [
       "<div>\n",
       "<style scoped>\n",
       "    .dataframe tbody tr th:only-of-type {\n",
       "        vertical-align: middle;\n",
       "    }\n",
       "\n",
       "    .dataframe tbody tr th {\n",
       "        vertical-align: top;\n",
       "    }\n",
       "\n",
       "    .dataframe thead th {\n",
       "        text-align: right;\n",
       "    }\n",
       "</style>\n",
       "<table border=\"1\" class=\"dataframe\">\n",
       "  <thead>\n",
       "    <tr style=\"text-align: right;\">\n",
       "      <th></th>\n",
       "      <th>InvoiceNo</th>\n",
       "      <th>StockCode</th>\n",
       "      <th>Description</th>\n",
       "      <th>Quantity</th>\n",
       "      <th>InvoiceDate</th>\n",
       "      <th>UnitPrice</th>\n",
       "      <th>CustomerID</th>\n",
       "      <th>Popular</th>\n",
       "    </tr>\n",
       "  </thead>\n",
       "  <tbody>\n",
       "    <tr>\n",
       "      <th>0</th>\n",
       "      <td>536527</td>\n",
       "      <td>921</td>\n",
       "      <td>SET OF 6 T-LIGHTS SANTA</td>\n",
       "      <td>6</td>\n",
       "      <td>12/1/2010 13:04</td>\n",
       "      <td>2.95</td>\n",
       "      <td>12662</td>\n",
       "      <td>False</td>\n",
       "    </tr>\n",
       "    <tr>\n",
       "      <th>1</th>\n",
       "      <td>536527</td>\n",
       "      <td>1514</td>\n",
       "      <td>ROTATING SILVER ANGELS T-LIGHT HLDR</td>\n",
       "      <td>6</td>\n",
       "      <td>12/1/2010 13:04</td>\n",
       "      <td>2.55</td>\n",
       "      <td>12662</td>\n",
       "      <td>False</td>\n",
       "    </tr>\n",
       "    <tr>\n",
       "      <th>2</th>\n",
       "      <td>536527</td>\n",
       "      <td>1573</td>\n",
       "      <td>MULTI COLOUR SILVER T-LIGHT HOLDER</td>\n",
       "      <td>12</td>\n",
       "      <td>12/1/2010 13:04</td>\n",
       "      <td>0.85</td>\n",
       "      <td>12662</td>\n",
       "      <td>True</td>\n",
       "    </tr>\n",
       "    <tr>\n",
       "      <th>3</th>\n",
       "      <td>536527</td>\n",
       "      <td>555</td>\n",
       "      <td>5 HOOK HANGER MAGIC TOADSTOOL</td>\n",
       "      <td>12</td>\n",
       "      <td>12/1/2010 13:04</td>\n",
       "      <td>1.65</td>\n",
       "      <td>12662</td>\n",
       "      <td>True</td>\n",
       "    </tr>\n",
       "    <tr>\n",
       "      <th>4</th>\n",
       "      <td>536527</td>\n",
       "      <td>557</td>\n",
       "      <td>3 HOOK HANGER MAGIC GARDEN</td>\n",
       "      <td>12</td>\n",
       "      <td>12/1/2010 13:04</td>\n",
       "      <td>1.95</td>\n",
       "      <td>12662</td>\n",
       "      <td>True</td>\n",
       "    </tr>\n",
       "  </tbody>\n",
       "</table>\n",
       "</div>"
      ],
      "text/plain": [
       "   InvoiceNo  StockCode                          Description  Quantity  \\\n",
       "0     536527        921              SET OF 6 T-LIGHTS SANTA         6   \n",
       "1     536527       1514  ROTATING SILVER ANGELS T-LIGHT HLDR         6   \n",
       "2     536527       1573   MULTI COLOUR SILVER T-LIGHT HOLDER        12   \n",
       "3     536527        555        5 HOOK HANGER MAGIC TOADSTOOL        12   \n",
       "4     536527        557           3 HOOK HANGER MAGIC GARDEN        12   \n",
       "\n",
       "       InvoiceDate  UnitPrice  CustomerID  Popular  \n",
       "0  12/1/2010 13:04       2.95       12662    False  \n",
       "1  12/1/2010 13:04       2.55       12662    False  \n",
       "2  12/1/2010 13:04       0.85       12662     True  \n",
       "3  12/1/2010 13:04       1.65       12662     True  \n",
       "4  12/1/2010 13:04       1.95       12662     True  "
      ]
     },
     "execution_count": 1876,
     "metadata": {},
     "output_type": "execute_result"
    }
   ],
   "source": [
    "lRegression.head()"
   ]
  },
  {
   "cell_type": "code",
   "execution_count": 1877,
   "metadata": {},
   "outputs": [
    {
     "data": {
      "text/plain": [
       "False    5032\n",
       "True     4463\n",
       "Name: Popular, dtype: int64"
      ]
     },
     "execution_count": 1877,
     "metadata": {},
     "output_type": "execute_result"
    }
   ],
   "source": [
    "lRegression[\"Popular\"].value_counts()"
   ]
  },
  {
   "cell_type": "code",
   "execution_count": 1878,
   "metadata": {},
   "outputs": [],
   "source": [
    "#train \"AI\" using part of dataset, random_state is the see of a model it's used to ensure replicating the data is possible\n",
    "X_train, X_test, y_train, y_test = train_test_split(X, y, test_size=0.40, random_state=64)"
   ]
  },
  {
   "cell_type": "code",
   "execution_count": 1879,
   "metadata": {},
   "outputs": [
    {
     "name": "stdout",
     "output_type": "stream",
     "text": [
      "Percentage of Accuracy: 85.0\n"
     ]
    }
   ],
   "source": [
    "# Fit the logistic regression model\n",
    "logisticRegression = LogisticRegression()\n",
    "logisticRegression.fit(X_train, y_train)\n",
    "\n",
    "# Predict the probability of product popularity for the test set\n",
    "y_pred = logisticRegression.predict_proba(X_test)[:, 1]\n",
    "\n",
    "# Calculate the performance of the model using AUC library from sklearn\n",
    "auc = roc_auc_score(y_test, y_pred).round(decimals=2)\n",
    "print(\"Percentage of Accuracy:\", auc * 100)"
   ]
  },
  {
   "cell_type": "code",
   "execution_count": 1880,
   "metadata": {},
   "outputs": [
    {
     "name": "stdout",
     "output_type": "stream",
     "text": [
      "              Predicted False  Predicted True\n",
      "Actual False             1363             676\n",
      "Actual True               220            1539\n"
     ]
    }
   ],
   "source": [
    "# Predict binary class labels using a threshold of 0.5\n",
    "y_pred_binary = (y_pred > 0.5).astype(int)\n",
    "\n",
    "# Compute the confusion matrix\n",
    "cf = confusion_matrix(y_test, y_pred_binary)\n",
    "cf = pd.DataFrame(cf, columns=[\"Predicted False\", \"Predicted True\"], index=[\"Actual False\", \"Actual True\"])\n",
    "print(cf)"
   ]
  },
  {
   "cell_type": "code",
   "execution_count": 1881,
   "metadata": {},
   "outputs": [
    {
     "data": {
      "text/plain": [
       "<Axes: >"
      ]
     },
     "execution_count": 1881,
     "metadata": {},
     "output_type": "execute_result"
    },
    {
     "data": {
      "image/png": "[encoded data removed]",
      "text/plain": [
       "<Figure size 640x480 with 2 Axes>"
      ]
     },
     "metadata": {},
     "output_type": "display_data"
    }
   ],
   "source": [
    "#Assigns names to each group\n",
    "#True Pegative = number of people that were classified negative and were actually negative\n",
    "#False Positive = number of people classified as positive while actually they are nagative\n",
    "#False Negative = number of people classified as nagative while they actually are positive\n",
    "#True Positive = number of people classified as positive and were actually positive\n",
    "group_names = ['True Negative','False Positive','False Negative','True Positive']\n",
    " \n",
    "#Shows how many are in that group as a flat number\n",
    "group_counts = ['{0:0.0f}'.format(value) for value in cf.values.flatten()]\n",
    " \n",
    "#Shows percentage of each group\n",
    "group_percentages = ['{0:.2%}'.format(value) for value in cf.values.flatten()/np.sum(cf.values)]\n",
    " \n",
    "labels = [f'{v1}\\n{v2}\\n{v3}' for v1, v2,v3  in zip(group_names, group_counts ,group_percentages)]\n",
    " \n",
    "labels = np.asarray(labels).reshape(2,2)\n",
    " \n",
    " #Creates chart\n",
    "sns.heatmap(cf, annot=labels, fmt='', cmap='Blues')"
   ]
  }
 ],
 "metadata": {
  "kernelspec": {
   "display_name": "Python 3.9.5 64-bit",
   "language": "python",
   "name": "python3"
  },
  "language_info": {
   "codemirror_mode": {
    "name": "ipython",
    "version": 3
   },
   "file_extension": ".py",
   "mimetype": "text/x-python",
   "name": "python",
   "nbconvert_exporter": "python",
   "pygments_lexer": "ipython3",
   "version": "3.10.10"
  },
  "orig_nbformat": 4,
  "vscode": {
   "interpreter": {
    "hash": "c347c8f9a7ef94e4c9e03b4513be7835ed18f45b99a2a817fb579f408b867b16"
   }
  }
 },
 "nbformat": 4,
 "nbformat_minor": 2
}
